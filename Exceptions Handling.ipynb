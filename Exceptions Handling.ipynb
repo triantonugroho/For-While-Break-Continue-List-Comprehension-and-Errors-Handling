{
  "nbformat": 4,
  "nbformat_minor": 0,
  "metadata": {
    "colab": {
      "name": "Exceptions Handling.ipynb",
      "provenance": []
    },
    "kernelspec": {
      "name": "python3",
      "display_name": "Python 3"
    },
    "language_info": {
      "name": "python"
    }
  },
  "cells": [
    {
      "cell_type": "markdown",
      "source": [
        "\n",
        "\n",
        "---\n",
        "### **Exceptions Handling**\n",
        "---\n",
        "#### The exception handling process uses a try statement paired with except.\n",
        "\n"
      ],
      "metadata": {
        "id": "GR7N8t2pJqUg"
      }
    },
    {
      "cell_type": "markdown",
      "source": [
        "\n",
        "\n",
        "---\n",
        "### **ZeroDivisionError**\n",
        "\n",
        "#### ZeroDivisionError is an exception that occurs when program execution results in a mathematical calculation of division by zero.\n"
      ],
      "metadata": {
        "id": "H4DvMTKGKw7q"
      }
    },
    {
      "cell_type": "markdown",
      "source": [
        "\n",
        "\n",
        "---\n",
        "\n",
        "\n",
        "#### For example, we want to handle an exception that occurs when a number is divided by zero (0)."
      ],
      "metadata": {
        "id": "2_5ycTsWQ46F"
      }
    },
    {
      "cell_type": "code",
      "execution_count": 1,
      "metadata": {
        "id": "g-34SvdXJUS7"
      },
      "outputs": [],
      "source": [
        "# Assign zero (0) to variable a\n",
        "\n",
        "a = 0"
      ]
    },
    {
      "cell_type": "code",
      "source": [
        "# Assign the division mathematical calculation (1/a) to division variable \n",
        "\n",
        "division = 1/a\n",
        "\n",
        "# The result appears ZeroDivisionError (Exceptions)"
      ],
      "metadata": {
        "colab": {
          "base_uri": "https://localhost:8080/",
          "height": 166
        },
        "id": "m-PXup7-KCWM",
        "outputId": "f057b6c0-33db-4f75-dfe5-f68038177f38"
      },
      "execution_count": null,
      "outputs": [
        {
          "output_type": "error",
          "ename": "ZeroDivisionError",
          "evalue": "ignored",
          "traceback": [
            "\u001b[0;31m---------------------------------------------------------------------------\u001b[0m",
            "\u001b[0;31mZeroDivisionError\u001b[0m                         Traceback (most recent call last)",
            "\u001b[0;32m<ipython-input-2-4e63b8139fbd>\u001b[0m in \u001b[0;36m<module>\u001b[0;34m()\u001b[0m\n\u001b[0;32m----> 1\u001b[0;31m \u001b[0mbagi\u001b[0m \u001b[0;34m=\u001b[0m \u001b[0;36m1\u001b[0m\u001b[0;34m/\u001b[0m\u001b[0ma\u001b[0m\u001b[0;34m\u001b[0m\u001b[0;34m\u001b[0m\u001b[0m\n\u001b[0m",
            "\u001b[0;31mZeroDivisionError\u001b[0m: division by zero"
          ]
        }
      ]
    },
    {
      "cell_type": "markdown",
      "source": [
        "\n",
        "\n",
        "---\n",
        "#### Exception handling for ZeroDivisionError is using try and except ZeroDivisionError and print the error pop-up message to the screen. \n"
      ],
      "metadata": {
        "id": "TIY_oR4BRPBv"
      }
    },
    {
      "cell_type": "code",
      "source": [
        "# Handling the ZeroDivisionError (exception) using try and except ZeroDivisionError\n",
        "# and print the error pop-up message to the screen (Number can't divided by zero)\n",
        "\n",
        "a = 0\n",
        "\n",
        "try:\n",
        "  division = 1/a\n",
        "  print(division)\n",
        "except ZeroDivisionError:\n",
        "  print(\"Number can't divided by zero\")"
      ],
      "metadata": {
        "colab": {
          "base_uri": "https://localhost:8080/"
        },
        "id": "FkoiFY5OKJj-",
        "outputId": "13737432-df93-4111-83c8-42a7e0f6554e"
      },
      "execution_count": 1,
      "outputs": [
        {
          "output_type": "stream",
          "name": "stdout",
          "text": [
            "Number can't divided by zero\n"
          ]
        }
      ]
    },
    {
      "cell_type": "markdown",
      "source": [
        "\n",
        "\n",
        "---\n",
        "### **FileNotFoundError**\n",
        "\n",
        "---\n",
        "\n",
        "\n",
        "#### FileNotFoundError is an exception that occurs when the file to be open does not exist.\n",
        "\n"
      ],
      "metadata": {
        "id": "Qf2agYQuOO6W"
      }
    },
    {
      "cell_type": "code",
      "source": [
        "open('contoh_tidak_ada.py')"
      ],
      "metadata": {
        "colab": {
          "base_uri": "https://localhost:8080/",
          "height": 166
        },
        "id": "i9QLbm5rLl8g",
        "outputId": "dc210516-e6ce-43d0-f01a-be464bb17655"
      },
      "execution_count": null,
      "outputs": [
        {
          "output_type": "error",
          "ename": "FileNotFoundError",
          "evalue": "ignored",
          "traceback": [
            "\u001b[0;31m---------------------------------------------------------------------------\u001b[0m",
            "\u001b[0;31mFileNotFoundError\u001b[0m                         Traceback (most recent call last)",
            "\u001b[0;32m<ipython-input-4-5020df40eeea>\u001b[0m in \u001b[0;36m<module>\u001b[0;34m()\u001b[0m\n\u001b[0;32m----> 1\u001b[0;31m \u001b[0mopen\u001b[0m\u001b[0;34m(\u001b[0m\u001b[0;34m'contoh_tidak_ada.py'\u001b[0m\u001b[0;34m)\u001b[0m\u001b[0;34m\u001b[0m\u001b[0;34m\u001b[0m\u001b[0m\n\u001b[0m",
            "\u001b[0;31mFileNotFoundError\u001b[0m: [Errno 2] No such file or directory: 'contoh_tidak_ada.py'"
          ]
        }
      ]
    },
    {
      "cell_type": "code",
      "source": [
        ""
      ],
      "metadata": {
        "id": "O9dtWpSDucQd"
      },
      "execution_count": null,
      "outputs": []
    },
    {
      "cell_type": "markdown",
      "source": [
        "\n",
        "#### Exception handling for FileNotFoundError is using try, with ... as, except and print the pop-up error message to the screen."
      ],
      "metadata": {
        "id": "xZ_Q2iYQQbDN"
      }
    },
    {
      "cell_type": "code",
      "source": [
        "# Handling the FileNotFoundError (exception) using try, with ... as, except \n",
        "# and print the error pop-up message to the screen (File not found)\n",
        "\n",
        "try:\n",
        "  with open('mean_formula.py') as file:\n",
        "    print(file.read())\n",
        "except FileNotFoundError:\n",
        "  print(\"File not found\")"
      ],
      "metadata": {
        "colab": {
          "base_uri": "https://localhost:8080/"
        },
        "id": "5YRwAGqlLrT6",
        "outputId": "832f2598-c3de-4a30-f5e2-b140ea2c287d"
      },
      "execution_count": 2,
      "outputs": [
        {
          "output_type": "stream",
          "name": "stdout",
          "text": [
            "File not found\n"
          ]
        }
      ]
    },
    {
      "cell_type": "markdown",
      "source": [
        "\n",
        "\n",
        "---\n",
        "#### For example, if you handle FileNotFoundError as a one-element tuple, don't forget to write a one-element tuple that ends with a comma."
      ],
      "metadata": {
        "id": "kWgqSytoNCGM"
      }
    },
    {
      "cell_type": "code",
      "source": [
        "# Handling FileNotFoundError as a one-element tuple using try, with ... as, \n",
        "# except and write to one-element tuple that ends with a comma. \n",
        "# Print the pop-up error message to the screen\n",
        "\n",
        "try:\n",
        "    with open('mean_formula.py') as file:\n",
        "      print(file.read())\n",
        "except (FileNotFoundError, ):\n",
        "  print(\"File not found\")"
      ],
      "metadata": {
        "colab": {
          "base_uri": "https://localhost:8080/"
        },
        "id": "ZACc9eDEOAeI",
        "outputId": "84e6cd88-be29-44f1-d008-125364c51263"
      },
      "execution_count": 3,
      "outputs": [
        {
          "output_type": "stream",
          "name": "stdout",
          "text": [
            "File not found\n"
          ]
        }
      ]
    },
    {
      "cell_type": "markdown",
      "source": [
        "\n",
        "\n",
        "---\n",
        "### **Exercise 1**\n",
        "---\n",
        "#### Make handling exceptions!\n",
        "##### *- ZeroDivisionError*\n",
        "##### *- FileNotFoundError (normal way and tuple)*\n",
        "\n"
      ],
      "metadata": {
        "id": "NSfdwxIhOYm3"
      }
    },
    {
      "cell_type": "code",
      "source": [
        "# Handling exception for ZeroDivisionError using try and except ZeroDivisionError and print the pop-up error message \n",
        "# (Number can't divided by zero) to the screen\n",
        "\n",
        "a = 5\n",
        "b = 0\n",
        "\n",
        "try:\n",
        "  division = a/b\n",
        "  print(division)\n",
        "except ZeroDivisionError:\n",
        "  print(\"Number can't divided  by zero\")"
      ],
      "metadata": {
        "colab": {
          "base_uri": "https://localhost:8080/"
        },
        "id": "SV5Y7TkQSKv-",
        "outputId": "fd903850-21dc-488b-9da3-56b9e650f9b2"
      },
      "execution_count": null,
      "outputs": [
        {
          "output_type": "stream",
          "name": "stdout",
          "text": [
            "Number can't divided  by zero\n"
          ]
        }
      ]
    },
    {
      "cell_type": "code",
      "source": [
        "# Handling exception for FileNotFoundError using try, with ... as, except and print the pop-up error message \n",
        "# (File not found) to the screen\n",
        "\n",
        "try:\n",
        "  with open('polinomial_function.py') as file:\n",
        "    print(file.read())\n",
        "except FileNotFoundError:\n",
        "  print(\"File not found\")"
      ],
      "metadata": {
        "colab": {
          "base_uri": "https://localhost:8080/"
        },
        "id": "7eAhJLk8SpE7",
        "outputId": "25e746c9-9d69-4998-ae5f-f3a2f2ba38ac"
      },
      "execution_count": null,
      "outputs": [
        {
          "output_type": "stream",
          "name": "stdout",
          "text": [
            "File not found\n"
          ]
        }
      ]
    },
    {
      "cell_type": "markdown",
      "source": [
        "\n",
        "\n",
        "---\n",
        "With a pair of try and except statements, the application does not stop but prints that the file was not found on the screen.\n",
        "\n",
        "```\n",
        "\n"
      ],
      "metadata": {
        "id": "1zmZI8cJTq7b"
      }
    },
    {
      "cell_type": "code",
      "source": [
        "# assign the dictionary {'mean': '10.0'} to variable d\n",
        "\n",
        "d = {'mean': '10.0'}"
      ],
      "metadata": {
        "id": "WedlRpJ6T4QW"
      },
      "execution_count": null,
      "outputs": []
    },
    {
      "cell_type": "code",
      "source": [
        "# Print the variable mean_\n",
        "\n",
        "print('mean: {}'.format(d['mean_']))\n",
        "\n",
        "# The result will be error because mean_ not assigned as the dictionary"
      ],
      "metadata": {
        "colab": {
          "base_uri": "https://localhost:8080/",
          "height": 201
        },
        "id": "zi1KsPI0UANo",
        "outputId": "0ed8edfe-580d-418b-a2ef-44cfed3a73da"
      },
      "execution_count": null,
      "outputs": [
        {
          "output_type": "error",
          "ename": "KeyError",
          "evalue": "ignored",
          "traceback": [
            "\u001b[0;31m---------------------------------------------------------------------------\u001b[0m",
            "\u001b[0;31mKeyError\u001b[0m                                  Traceback (most recent call last)",
            "\u001b[0;32m<ipython-input-21-4a32c04a024c>\u001b[0m in \u001b[0;36m<module>\u001b[0;34m()\u001b[0m\n\u001b[0;32m----> 1\u001b[0;31m \u001b[0mprint\u001b[0m\u001b[0;34m(\u001b[0m\u001b[0;34m'mean: {}'\u001b[0m\u001b[0;34m.\u001b[0m\u001b[0mformat\u001b[0m\u001b[0;34m(\u001b[0m\u001b[0md\u001b[0m\u001b[0;34m[\u001b[0m\u001b[0;34m'mean_'\u001b[0m\u001b[0;34m]\u001b[0m\u001b[0;34m)\u001b[0m\u001b[0;34m)\u001b[0m\u001b[0;34m\u001b[0m\u001b[0;34m\u001b[0m\u001b[0m\n\u001b[0m\u001b[1;32m      2\u001b[0m \u001b[0;34m\u001b[0m\u001b[0m\n\u001b[1;32m      3\u001b[0m \u001b[0;31m# error because mean_ not assigned\u001b[0m\u001b[0;34m\u001b[0m\u001b[0;34m\u001b[0m\u001b[0;34m\u001b[0m\u001b[0m\n",
            "\u001b[0;31mKeyError\u001b[0m: 'mean_'"
          ]
        }
      ]
    },
    {
      "cell_type": "markdown",
      "source": [
        "\n",
        "\n",
        "---\n",
        "#### To handle this exception we can using try and double except"
      ],
      "metadata": {
        "id": "4miNbUeJUN0g"
      }
    },
    {
      "cell_type": "code",
      "source": [
        "# Handling exception using try, double except and print the pop-up error \n",
        "# message (Key not found in dictionary) to the screen.\n",
        "\n",
        "d = {'mean': '10.0'}\n",
        "\n",
        "try:\n",
        "  print('rata-rata {}'.format(d['mean_']))\n",
        "except KeyError:\n",
        "  print('Key not found in dictionary (not assigned)')\n",
        "except ValueError:\n",
        "  print('Value not match')"
      ],
      "metadata": {
        "colab": {
          "base_uri": "https://localhost:8080/"
        },
        "id": "XZRseXwtUW88",
        "outputId": "1d89be53-a120-4d20-9e8f-822a041e470e"
      },
      "execution_count": null,
      "outputs": [
        {
          "output_type": "stream",
          "name": "stdout",
          "text": [
            "Key not found in dictionary (not assigned)\n"
          ]
        }
      ]
    },
    {
      "cell_type": "markdown",
      "source": [
        "\n",
        "\n",
        "---\n",
        "#### TypeError (exception) / unsupported operand type"
      ],
      "metadata": {
        "id": "sEBmgaIeW8Fb"
      }
    },
    {
      "cell_type": "code",
      "source": [
        ""
      ],
      "metadata": {
        "id": "IPr1X2HCvtBl"
      },
      "execution_count": null,
      "outputs": []
    },
    {
      "cell_type": "code",
      "source": [
        "# Assign the dictionary {'mean': '10.0'} to the variable d\n",
        "\n",
        "d = {'mean': '10.0'}\n",
        "\n",
        "# Print the value of the 'mean' key using mathematical operation\n",
        "\n",
        "print('mean: {}'.format(d['mean']/3))\n",
        "\n",
        "# The result will be TypeError (exception) / unsupported operand type(s) \n",
        "# for /: 'str' and 'int'"
      ],
      "metadata": {
        "colab": {
          "base_uri": "https://localhost:8080/",
          "height": 201
        },
        "id": "Hns9Wk9DXH6O",
        "outputId": "0b791bbe-ebed-4e01-9f7c-1bd9e053ca9c"
      },
      "execution_count": null,
      "outputs": [
        {
          "output_type": "error",
          "ename": "TypeError",
          "evalue": "ignored",
          "traceback": [
            "\u001b[0;31m---------------------------------------------------------------------------\u001b[0m",
            "\u001b[0;31mTypeError\u001b[0m                                 Traceback (most recent call last)",
            "\u001b[0;32m<ipython-input-32-a470d2be710c>\u001b[0m in \u001b[0;36m<module>\u001b[0;34m()\u001b[0m\n\u001b[1;32m      1\u001b[0m \u001b[0md\u001b[0m \u001b[0;34m=\u001b[0m \u001b[0;34m{\u001b[0m\u001b[0;34m'mean'\u001b[0m\u001b[0;34m:\u001b[0m \u001b[0;34m'10.0'\u001b[0m\u001b[0;34m}\u001b[0m\u001b[0;34m\u001b[0m\u001b[0;34m\u001b[0m\u001b[0m\n\u001b[1;32m      2\u001b[0m \u001b[0;34m\u001b[0m\u001b[0m\n\u001b[0;32m----> 3\u001b[0;31m \u001b[0mprint\u001b[0m\u001b[0;34m(\u001b[0m\u001b[0;34m'mean: {}'\u001b[0m\u001b[0;34m.\u001b[0m\u001b[0mformat\u001b[0m\u001b[0;34m(\u001b[0m\u001b[0md\u001b[0m\u001b[0;34m[\u001b[0m\u001b[0;34m'mean'\u001b[0m\u001b[0;34m]\u001b[0m\u001b[0;34m/\u001b[0m\u001b[0;36m3\u001b[0m\u001b[0;34m)\u001b[0m\u001b[0;34m)\u001b[0m\u001b[0;34m\u001b[0m\u001b[0;34m\u001b[0m\u001b[0m\n\u001b[0m",
            "\u001b[0;31mTypeError\u001b[0m: unsupported operand type(s) for /: 'str' and 'int'"
          ]
        }
      ]
    },
    {
      "cell_type": "markdown",
      "source": [
        "\n",
        "\n",
        "---\n",
        "#### To handle TypeError (exception) use try, double except statement and print the pop-up error message to the screen.\n"
      ],
      "metadata": {
        "id": "mcHbtSMPa5uW"
      }
    },
    {
      "cell_type": "code",
      "source": [
        "# Handling TypeError(exception) using try, double except statement and \n",
        "# print the pop-up error message ('Value or type not match') to the screen\n",
        "\n",
        "d = {'mean' : '10.0'}\n",
        "\n",
        "try:\n",
        "  print('mean: {}'.format(d['mean']/3))\n",
        "except KeyError:\n",
        "  print('Key not found in dictionary')\n",
        "except (ValueError, TypeError):\n",
        "  print('Value or type not match')"
      ],
      "metadata": {
        "colab": {
          "base_uri": "https://localhost:8080/"
        },
        "id": "Bc1EOC_HXxvO",
        "outputId": "2bf200fc-f8d5-4ed0-c979-c26fd1f4fed2"
      },
      "execution_count": null,
      "outputs": [
        {
          "output_type": "stream",
          "name": "stdout",
          "text": [
            "Value or type not match\n"
          ]
        }
      ]
    },
    {
      "cell_type": "markdown",
      "source": [
        "---\n",
        "#### To handle TypeError (exception) use try, single except statement and print the pop-up error message to the screen."
      ],
      "metadata": {
        "id": "fJuE45bQbk1O"
      }
    },
    {
      "cell_type": "code",
      "source": [
        "# Handling TypeError (exception) using try, single except's statement and \n",
        "# print the pop-up error message ('Handling error: invalid literal for int() \n",
        "# with base 10: '10.0')\n",
        "\n",
        "d = {'mean': '10.0'}\n",
        "\n",
        "try:\n",
        "  print('round mean: {}'.format(int(d['mean'])))\n",
        "except (ValueError, TypeError) as e:\n",
        "  print('Handling error: {}'.format(e))"
      ],
      "metadata": {
        "colab": {
          "base_uri": "https://localhost:8080/"
        },
        "id": "2C2TfWeQYn1C",
        "outputId": "f8d20fc4-0bf9-43dd-e775-969af74379ce"
      },
      "execution_count": null,
      "outputs": [
        {
          "output_type": "stream",
          "name": "stdout",
          "text": [
            "Handling error: invalid literal for int() with base 10: '10.0'\n"
          ]
        }
      ]
    },
    {
      "cell_type": "markdown",
      "source": [
        "\n",
        "\n",
        "---\n",
        "\n",
        "### **Execise 2**\n",
        "\n",
        "---\n",
        "#### Make dictionary with mathematical operation and handling the error!\n",
        "#### Handling exceptions using try and single except's statement and double except's statement!\n"
      ],
      "metadata": {
        "id": "oVR9EnKFcFlC"
      }
    },
    {
      "cell_type": "code",
      "source": [
        "# Assign the dictionary {'median' : '25.5'} to the variable d\n",
        "\n",
        "d = {'median' : '25.5'}\n",
        "\n",
        "# Print the value of the 'mean' key using mathematical operation\n",
        "\n",
        "print('median: {}'.format(d['median']**2))\n",
        "\n",
        "# The result will be TypeError (exception) / unsupported operand type(s) for ** or pow(): 'str' and 'int'"
      ],
      "metadata": {
        "colab": {
          "base_uri": "https://localhost:8080/",
          "height": 236
        },
        "id": "_PsKLNkRdABb",
        "outputId": "501b8821-df4c-42ed-9a82-9fe7d563e49e"
      },
      "execution_count": 1,
      "outputs": [
        {
          "output_type": "error",
          "ename": "TypeError",
          "evalue": "ignored",
          "traceback": [
            "\u001b[0;31m---------------------------------------------------------------------------\u001b[0m",
            "\u001b[0;31mTypeError\u001b[0m                                 Traceback (most recent call last)",
            "\u001b[0;32m<ipython-input-1-4e21395cdc7e>\u001b[0m in \u001b[0;36m<module>\u001b[0;34m()\u001b[0m\n\u001b[1;32m      6\u001b[0m \u001b[0;31m# Print the value of the 'mean' key using mathematical operation\u001b[0m\u001b[0;34m\u001b[0m\u001b[0;34m\u001b[0m\u001b[0;34m\u001b[0m\u001b[0m\n\u001b[1;32m      7\u001b[0m \u001b[0;34m\u001b[0m\u001b[0m\n\u001b[0;32m----> 8\u001b[0;31m \u001b[0mprint\u001b[0m\u001b[0;34m(\u001b[0m\u001b[0;34m'median: {}'\u001b[0m\u001b[0;34m.\u001b[0m\u001b[0mformat\u001b[0m\u001b[0;34m(\u001b[0m\u001b[0md\u001b[0m\u001b[0;34m[\u001b[0m\u001b[0;34m'median'\u001b[0m\u001b[0;34m]\u001b[0m\u001b[0;34m**\u001b[0m\u001b[0;36m2\u001b[0m\u001b[0;34m)\u001b[0m\u001b[0;34m)\u001b[0m\u001b[0;34m\u001b[0m\u001b[0;34m\u001b[0m\u001b[0m\n\u001b[0m\u001b[1;32m      9\u001b[0m \u001b[0;34m\u001b[0m\u001b[0m\n\u001b[1;32m     10\u001b[0m \u001b[0;31m# The result will be TypeError (exception) / unsupported operand type(s) for /: 'str' and 'int'\u001b[0m\u001b[0;34m\u001b[0m\u001b[0;34m\u001b[0m\u001b[0;34m\u001b[0m\u001b[0m\n",
            "\u001b[0;31mTypeError\u001b[0m: unsupported operand type(s) for ** or pow(): 'str' and 'int'"
          ]
        }
      ]
    },
    {
      "cell_type": "code",
      "source": [
        "# Handling TypeError(exception) using try, double except's statement and print the pop-up error message \n",
        "# ('Value or type not match') to the screen\n",
        "\n",
        "d = {'median' : '25.5'}\n",
        "\n",
        "try:\n",
        "  print('median: {}'.format(d['median']**2))\n",
        "except KeyError:\n",
        "  print('Key not found in dictionary')\n",
        "except (ValueError, TypeError):\n",
        "  print('Value or type not match')"
      ],
      "metadata": {
        "colab": {
          "base_uri": "https://localhost:8080/"
        },
        "id": "XAknSbXmZ6EV",
        "outputId": "77706426-3214-46e5-fb1e-bfacbbbc2c8c"
      },
      "execution_count": 3,
      "outputs": [
        {
          "output_type": "stream",
          "name": "stdout",
          "text": [
            "Value or type not match\n"
          ]
        }
      ]
    },
    {
      "cell_type": "code",
      "source": [
        "# Handling TypeError (exception) using try, single except's statement and print the pop-up error message\n",
        "# ('Handling error: invalid literal for int() with base 10: '25.5')\n",
        "\n",
        "d = {'median': '25.5'}\n",
        "\n",
        "try:\n",
        "  print('round median: {}'.format(int(d['median'])))\n",
        "except (ValueError, TypeError) as e:\n",
        "  print('Handling error: {}'.format(e))"
      ],
      "metadata": {
        "colab": {
          "base_uri": "https://localhost:8080/"
        },
        "id": "BSMzC58EaXPe",
        "outputId": "82484a56-d6a4-4aba-8dc5-9c2cea56079d"
      },
      "execution_count": null,
      "outputs": [
        {
          "output_type": "stream",
          "name": "stdout",
          "text": [
            "Handling error: invalid literal for int() with base 10: '25.5'\n"
          ]
        }
      ]
    }
  ]
}