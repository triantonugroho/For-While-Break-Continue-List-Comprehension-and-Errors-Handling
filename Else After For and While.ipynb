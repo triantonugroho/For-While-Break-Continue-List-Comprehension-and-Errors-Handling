{
  "nbformat": 4,
  "nbformat_minor": 0,
  "metadata": {
    "colab": {
      "name": "For dan while 29 Maret.ipynb",
      "provenance": []
    },
    "kernelspec": {
      "name": "python3",
      "display_name": "Python 3"
    },
    "language_info": {
      "name": "python"
    }
  },
  "cells": [
    {
      "cell_type": "markdown",
      "source": [
        "# ELSE AFTER FOR"
      ],
      "metadata": {
        "id": "2RMj4FIeOfUb"
      }
    },
    {
      "cell_type": "code",
      "source": [
        "for i in range(1,7):\n",
        "    if i % 2 == 0: #looking the value if divided by 2 has a residual value of 0\n",
        "          print(\"{} is even numbers\".format(i))\n",
        "          break  #if it is fulfilled it will stop\n",
        "    else:\n",
        "        print(\"{} is not even numbers\".format(i))"
      ],
      "metadata": {
        "id": "qVF4SjYMjvJ_",
        "outputId": "42909e32-7e7d-4222-86ad-d9c63d48e6c6",
        "colab": {
          "base_uri": "https://localhost:8080/"
        }
      },
      "execution_count": null,
      "outputs": [
        {
          "output_type": "stream",
          "name": "stdout",
          "text": [
            "1 is not even numbers\n",
            "2 is even numbers\n"
          ]
        }
      ]
    },
    {
      "cell_type": "code",
      "source": [
        "for i in range(1,7):\n",
        "    if i % 2 == 0:\n",
        "          print(\"{} is even numbers\".format(i))\n",
        "          continue \n",
        "    else:\n",
        "        print(\"{} is not even numbers\".format(i))"
      ],
      "metadata": {
        "colab": {
          "base_uri": "https://localhost:8080/"
        },
        "id": "gbdsqSt3S6WC",
        "outputId": "d62b6825-acd9-4dd7-b88a-674597672041"
      },
      "execution_count": null,
      "outputs": [
        {
          "output_type": "stream",
          "name": "stdout",
          "text": [
            "1 is not even numbers\n",
            "2 is even numbers\n",
            "3 is not even numbers\n",
            "4 is even numbers\n",
            "5 is not even numbers\n",
            "6 is even numbers\n"
          ]
        }
      ]
    },
    {
      "cell_type": "code",
      "source": [
        "for j in range(2,21):\n",
        "    if j % 2 != 0: \n",
        "          print(\"{} is odd numbers\".format(j))\n",
        "          break  \n",
        "    else:\n",
        "        print(\"{} is not odd numbers\".format(j))"
      ],
      "metadata": {
        "colab": {
          "base_uri": "https://localhost:8080/"
        },
        "id": "TKR0GqwQVmfn",
        "outputId": "847f5341-9c41-4a6b-e5e9-90182a5f7774"
      },
      "execution_count": null,
      "outputs": [
        {
          "output_type": "stream",
          "name": "stdout",
          "text": [
            "2 is not odd numbers\n",
            "3 is odd numbers\n"
          ]
        }
      ]
    },
    {
      "cell_type": "code",
      "source": [
        "for j in range(2,21):\n",
        "    if j % 2 != 0: \n",
        "          print(\"{} is odd numbers\".format(j))\n",
        "          continue  \n",
        "    else:\n",
        "        print(\"{} is not odd numbers\".format(j))"
      ],
      "metadata": {
        "colab": {
          "base_uri": "https://localhost:8080/"
        },
        "id": "JiVLkJe5WA7F",
        "outputId": "ecde7b75-060f-482f-bbcb-a4fb8aaf9ffb"
      },
      "execution_count": null,
      "outputs": [
        {
          "output_type": "stream",
          "name": "stdout",
          "text": [
            "2 is not odd numbers\n",
            "3 is odd numbers\n",
            "4 is not odd numbers\n",
            "5 is odd numbers\n",
            "6 is not odd numbers\n",
            "7 is odd numbers\n",
            "8 is not odd numbers\n",
            "9 is odd numbers\n",
            "10 is not odd numbers\n",
            "11 is odd numbers\n",
            "12 is not odd numbers\n",
            "13 is odd numbers\n",
            "14 is not odd numbers\n",
            "15 is odd numbers\n",
            "16 is not odd numbers\n",
            "17 is odd numbers\n",
            "18 is not odd numbers\n",
            "19 is odd numbers\n",
            "20 is not odd numbers\n"
          ]
        }
      ]
    },
    {
      "cell_type": "markdown",
      "source": [
        "# ELSE AFTER WHILE"
      ],
      "metadata": {
        "id": "Pj_U2a67O43A"
      }
    },
    {
      "cell_type": "code",
      "source": [
        "num = int(input()) #for input value\n",
        "\n",
        "while (num < 10): #If the condition is not met, the loop will stop.\n",
        "  num = num + 2 \n",
        "  print(\"Number {}\".format(num))"
      ],
      "metadata": {
        "id": "_3cyifRaqUSd",
        "colab": {
          "base_uri": "https://localhost:8080/"
        },
        "outputId": "2b27c317-6c89-4446-ca71-d6f2f6fcae23"
      },
      "execution_count": null,
      "outputs": [
        {
          "output_type": "stream",
          "name": "stdout",
          "text": [
            "1\n",
            "Number 3\n",
            "Number 5\n",
            "Number 7\n",
            "Number 9\n",
            "Number 11\n"
          ]
        }
      ]
    },
    {
      "cell_type": "code",
      "source": [
        "num = int(input())\n",
        "\n",
        "while (num < 10):\n",
        "  num = num + 2\n",
        "  if num == 6:\n",
        "    break\n",
        "  print(num)\n",
        "else:\n",
        "  print(\"finish loop\")"
      ],
      "metadata": {
        "id": "SI5y19xNrB3k",
        "colab": {
          "base_uri": "https://localhost:8080/"
        },
        "outputId": "3a3eb33d-6929-40ca-e43b-4d7d90280535"
      },
      "execution_count": null,
      "outputs": [
        {
          "output_type": "stream",
          "name": "stdout",
          "text": [
            "2\n",
            "4\n"
          ]
        }
      ]
    },
    {
      "cell_type": "code",
      "source": [
        "num = int(input())\n",
        "while (num > 0):\n",
        "  num = num - 2\n",
        "  print(num)\n",
        "else:\n",
        "  print(\"finish loop\")"
      ],
      "metadata": {
        "id": "mgFe7Bf-qh5c",
        "colab": {
          "base_uri": "https://localhost:8080/"
        },
        "outputId": "e6305384-76b9-4415-e918-b8b853361fd3"
      },
      "execution_count": null,
      "outputs": [
        {
          "output_type": "stream",
          "name": "stdout",
          "text": [
            "10\n",
            "8\n",
            "6\n",
            "4\n",
            "2\n",
            "0\n",
            "finish loop\n"
          ]
        }
      ]
    },
    {
      "cell_type": "code",
      "source": [
        "num = 4\n",
        "\n",
        "while (num < 15):\n",
        "  num = num + 2\n",
        "  print(num)\n",
        "else:\n",
        "  print(\"finish loop\")"
      ],
      "metadata": {
        "colab": {
          "base_uri": "https://localhost:8080/"
        },
        "id": "TCo9_ECgs7P6",
        "outputId": "20daebfc-d51b-47c0-9777-880e9ba2772e"
      },
      "execution_count": 49,
      "outputs": [
        {
          "output_type": "stream",
          "name": "stdout",
          "text": [
            "6\n",
            "8\n",
            "10\n",
            "12\n",
            "14\n",
            "16\n",
            "finish loop\n"
          ]
        }
      ]
    }
  ]
}