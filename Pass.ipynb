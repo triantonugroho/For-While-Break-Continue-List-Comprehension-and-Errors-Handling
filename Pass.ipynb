{
  "nbformat": 4,
  "nbformat_minor": 0,
  "metadata": {
    "colab": {
      "name": "Pass.ipynb",
      "provenance": []
    },
    "kernelspec": {
      "name": "python3",
      "display_name": "Python 3"
    },
    "language_info": {
      "name": "python"
    }
  },
  "cells": [
    {
      "cell_type": "code",
      "execution_count": 8,
      "metadata": {
        "id": "9XW9hRa7vnoY",
        "colab": {
          "base_uri": "https://localhost:8080/"
        },
        "outputId": "119b705e-d9d3-442b-8c66-24ef0749574c"
      },
      "outputs": [
        {
          "output_type": "stream",
          "name": "stdout",
          "text": [
            "get: 1\n",
            "get numbers 1\n",
            "get: 2\n",
            "get numbers 2\n",
            "get: z\n",
            "get numbers z\n"
          ]
        }
      ],
      "source": [
        "n = \"\"\n",
        "   \n",
        "while (n != \"z\"):\n",
        "    n = (input(\"get: \"))\n",
        "    print('get numbers {}'.format(n))"
      ]
    },
    {
      "cell_type": "code",
      "source": [
        "import sys\n",
        "\n",
        "n = ''\n",
        "\n",
        "while(n != \"finish\"): #if it is met with this value it will stop.\n",
        "    try:\n",
        "        n = (input(\"get: \"))\n",
        "        print('get numbers {}'.format(int(n))) #add numeric value\n",
        "    except:\n",
        "        if n == 'finish' :\n",
        "            pass #if there is an error it will display a notification but it does not stop the process.\n",
        "        else:\n",
        "            print('dapat error{}'.format(sys.exc_info()[0]))"
      ],
      "metadata": {
        "colab": {
          "base_uri": "https://localhost:8080/"
        },
        "id": "lulknFquFEiU",
        "outputId": "0f4ce107-8627-4518-b1e9-942d7a442f41"
      },
      "execution_count": 15,
      "outputs": [
        {
          "name": "stdout",
          "output_type": "stream",
          "text": [
            "get: 1\n",
            "get numbers 1\n",
            "get: 2\n",
            "get numbers 2\n",
            "get: 3\n",
            "get numbers 3\n",
            "get: seaborn kusto\n",
            "dapat error<class 'ValueError'>\n",
            "get: 4\n",
            "get numbers 4\n",
            "get: 5\n",
            "get numbers 5\n",
            "get: finish\n"
          ]
        }
      ]
    }
  ]
}